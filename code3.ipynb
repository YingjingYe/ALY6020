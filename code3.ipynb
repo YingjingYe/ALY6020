{
 "cells": [
  {
   "cell_type": "markdown",
   "metadata": {},
   "source": [
    "Import packages"
   ]
  },
  {
   "cell_type": "code",
   "execution_count": 1,
   "metadata": {},
   "outputs": [],
   "source": [
    "import numpy as np \n",
    "import pandas as pd \n",
    "import sklearn as sk \n",
    "import matplotlib.pyplot as plt \n",
    "%matplotlib inline\n",
    "from sklearn.model_selection import train_test_split\n",
    "from sklearn.pipeline import Pipeline\n",
    "from sklearn.preprocessing import StandardScaler\n",
    "from sklearn.preprocessing import MinMaxScaler\n",
    "from sklearn.ensemble import RandomForestClassifier\n",
    "from sklearn.model_selection import GridSearchCV\n",
    "from sklearn.pipeline import Pipeline\n",
    "from sklearn import metrics\n",
    "from sklearn.feature_extraction.text import CountVectorizer\n",
    "from sklearn.preprocessing import OrdinalEncoder\n",
    "from sklearn.preprocessing import OneHotEncoder\n",
    "from sklearn.impute import SimpleImputer\n",
    "from sklearn.compose import ColumnTransformer\n",
    "from sklearn.tree import DecisionTreeClassifier"
   ]
  },
  {
   "cell_type": "markdown",
   "metadata": {},
   "source": [
    "Load dataset"
   ]
  },
  {
   "cell_type": "code",
   "execution_count": 2,
   "metadata": {},
   "outputs": [],
   "source": [
    "df = pd.read_csv('credit.csv')"
   ]
  },
  {
   "cell_type": "markdown",
   "metadata": {},
   "source": [
    "Question 2"
   ]
  },
  {
   "cell_type": "code",
   "execution_count": 3,
   "metadata": {},
   "outputs": [
    {
     "name": "stdout",
     "output_type": "stream",
     "text": [
      "Index(['checking_balance', 'months_loan_duration', 'credit_history', 'purpose',\n",
      "       'amount', 'savings_balance', 'employment_length', 'installment_rate',\n",
      "       'personal_status', 'other_debtors', 'residence_history', 'property',\n",
      "       'age', 'installment_plan', 'housing', 'existing_credits', 'default',\n",
      "       'dependents', 'telephone', 'foreign_worker', 'job'],\n",
      "      dtype='object')\n"
     ]
    }
   ],
   "source": [
    "df['default'] = (df['default']>1).astype(int)\n",
    "print(df.columns)\n",
    "target_column = ['default']\n",
    "numeric_features =['months_loan_duration',\n",
    "                   'amount','age','installment_rate',\n",
    "                  'dependents']\n",
    "categorical_features =['checking_balance', 'credit_history', 'purpose',\n",
    "                       'savings_balance', 'employment_length',\n",
    "                       'personal_status', 'other_debtors', 'residence_history', 'property',\n",
    "                       'installment_plan', 'housing', 'existing_credits',\n",
    "                        'telephone', 'foreign_worker', 'job']"
   ]
  },
  {
   "cell_type": "code",
   "execution_count": 4,
   "metadata": {},
   "outputs": [],
   "source": [
    "y = df.pop('default')\n",
    "X = df"
   ]
  },
  {
   "cell_type": "code",
   "execution_count": 5,
   "metadata": {},
   "outputs": [],
   "source": [
    "numeric_transformer = Pipeline(steps=[\n",
    "    ('imputer', SimpleImputer(strategy='median')),\n",
    "    ('scaler', StandardScaler())])\n",
    "\n",
    "categorical_transformer = Pipeline(steps=[\n",
    "    ('imputer', SimpleImputer(strategy='constant', fill_value='missing')),\n",
    "    ('ordinal', OrdinalEncoder())])\n",
    "\n",
    "preprocessor = ColumnTransformer(\n",
    "    transformers=[\n",
    "        ('num', numeric_transformer, numeric_features),\n",
    "        ('cat', categorical_transformer, categorical_features)])\n"
   ]
  },
  {
   "cell_type": "code",
   "execution_count": 6,
   "metadata": {},
   "outputs": [],
   "source": [
    "X_train, X_test, y_train, y_test = train_test_split(X, y, test_size=0.2, random_state=40)"
   ]
  },
  {
   "cell_type": "code",
   "execution_count": 7,
   "metadata": {},
   "outputs": [],
   "source": [
    "clf_tree = DecisionTreeClassifier()"
   ]
  },
  {
   "cell_type": "code",
   "execution_count": 8,
   "metadata": {},
   "outputs": [
    {
     "name": "stdout",
     "output_type": "stream",
     "text": [
      "train score accuracy 100.0\n",
      "test score accuracy 70.0\n",
      "recall 0.47368421052631576\n"
     ]
    }
   ],
   "source": [
    "pipe_tree = Pipeline([('process', preprocessor), ('clf', clf_tree)])\n",
    "pipe_tree = pipe_tree.fit(X_train, y_train)\n",
    "\n",
    "y_pred_train_tree = pipe_tree.predict(X_train)\n",
    "print('train score accuracy',100*(y_pred_train_tree == y_train).mean())\n",
    "\n",
    "\n",
    "y_pred_test_tree = pipe_tree.predict(X_test)\n",
    "print('test score accuracy',100*(y_pred_test_tree == y_test).mean())\n",
    "\n",
    "recall = metrics.recall_score(y_test, y_pred_test_tree)\n",
    "print('recall',recall)"
   ]
  },
  {
   "cell_type": "markdown",
   "metadata": {},
   "source": [
    "Question 3"
   ]
  },
  {
   "cell_type": "code",
   "execution_count": 9,
   "metadata": {},
   "outputs": [],
   "source": [
    "clf_rf = RandomForestClassifier(n_estimators = 50, random_state = 40)"
   ]
  },
  {
   "cell_type": "code",
   "execution_count": 10,
   "metadata": {},
   "outputs": [
    {
     "name": "stdout",
     "output_type": "stream",
     "text": [
      "train score accuracy 100.0\n",
      "test score accuracy 76.0\n",
      "recall 0.38596491228070173\n"
     ]
    }
   ],
   "source": [
    "pipe_rf = Pipeline([('process', preprocessor), ('clf', clf_rf)])\n",
    "pipe_rf = pipe_rf.fit(X_train, y_train)\n",
    "\n",
    "y_pred_train_rf = pipe_rf.predict(X_train)\n",
    "print('train score accuracy',100*(y_pred_train_rf == y_train).mean())\n",
    "\n",
    "y_pred_test_rf = pipe_rf.predict(X_test)\n",
    "print('test score accuracy',100*(y_pred_test_rf == y_test).mean())\n",
    "\n",
    "recall_rf = metrics.recall_score(y_test, y_pred_test_rf)\n",
    "print('recall', recall_rf)"
   ]
  },
  {
   "cell_type": "markdown",
   "metadata": {},
   "source": [
    "Question 4"
   ]
  },
  {
   "cell_type": "code",
   "execution_count": 11,
   "metadata": {},
   "outputs": [
    {
     "name": "stdout",
     "output_type": "stream",
     "text": [
      "Best parameter found on development set:\n",
      "{'n_estimators': 25}\n",
      "\n",
      "train score accuracy 100.0\n",
      "test score accuracy 76.0\n",
      "recall 0.43859649122807015\n",
      "\n"
     ]
    }
   ],
   "source": [
    "from sklearn.pipeline import make_pipeline\n",
    "from sklearn.metrics import classification_report\n",
    "\n",
    "param_grid = {'n_estimators': list(range(10, 100, 5))}\n",
    "clf = RandomForestClassifier(random_state = 40)\n",
    "\n",
    "grid = GridSearchCV(clf, param_grid, cv = 5, scoring = 'recall')\n",
    "\n",
    "pipe = make_pipeline(preprocessor, grid)\n",
    "\n",
    "pipe.fit(X_train, y_train)\n",
    "y_pred_train = pipe.predict(X_train)\n",
    "y_pred_test = pipe.predict(X_test)\n",
    "recall = metrics.recall_score(y_test, y_pred_test)\n",
    "\n",
    "print(\"Best parameter found on development set:\")\n",
    "print(grid.best_params_)\n",
    "print()\n",
    "\n",
    "print('train score accuracy',100*(y_pred_train_rf == y_train).mean())\n",
    "print('test score accuracy',100*(y_pred_test_rf == y_test).mean())\n",
    "print('recall', recall)\n",
    "print()"
   ]
  },
  {
   "cell_type": "code",
   "execution_count": null,
   "metadata": {},
   "outputs": [],
   "source": []
  }
 ],
 "metadata": {
  "kernelspec": {
   "display_name": "Python 3",
   "language": "python",
   "name": "python3"
  },
  "language_info": {
   "codemirror_mode": {
    "name": "ipython",
    "version": 3
   },
   "file_extension": ".py",
   "mimetype": "text/x-python",
   "name": "python",
   "nbconvert_exporter": "python",
   "pygments_lexer": "ipython3",
   "version": "3.7.4"
  }
 },
 "nbformat": 4,
 "nbformat_minor": 2
}
